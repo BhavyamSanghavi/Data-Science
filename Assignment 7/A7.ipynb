{
 "cells": [
  {
   "cell_type": "code",
   "execution_count": 33,
   "metadata": {},
   "outputs": [
    {
     "name": "stdout",
     "output_type": "stream",
     "text": [
      "Requirement already satisfied: nltk in /usr/local/python/3.12.1/lib/python3.12/site-packages (3.9.1)\n",
      "Requirement already satisfied: click in /usr/local/python/3.12.1/lib/python3.12/site-packages (from nltk) (8.1.8)\n",
      "Requirement already satisfied: joblib in /home/codespace/.local/lib/python3.12/site-packages (from nltk) (1.4.2)\n",
      "Requirement already satisfied: regex>=2021.8.3 in /usr/local/python/3.12.1/lib/python3.12/site-packages (from nltk) (2024.11.6)\n",
      "Requirement already satisfied: tqdm in /usr/local/python/3.12.1/lib/python3.12/site-packages (from nltk) (4.67.1)\n",
      "\n",
      "\u001b[1m[\u001b[0m\u001b[34;49mnotice\u001b[0m\u001b[1;39;49m]\u001b[0m\u001b[39;49m A new release of pip is available: \u001b[0m\u001b[31;49m24.3.1\u001b[0m\u001b[39;49m -> \u001b[0m\u001b[32;49m25.0.1\u001b[0m\n",
      "\u001b[1m[\u001b[0m\u001b[34;49mnotice\u001b[0m\u001b[1;39;49m]\u001b[0m\u001b[39;49m To update, run: \u001b[0m\u001b[32;49mpython3 -m pip install --upgrade pip\u001b[0m\n"
     ]
    }
   ],
   "source": [
    "! pip install nltk"
   ]
  },
  {
   "cell_type": "code",
   "execution_count": 34,
   "metadata": {},
   "outputs": [],
   "source": [
    "import nltk"
   ]
  },
  {
   "cell_type": "code",
   "execution_count": null,
   "metadata": {},
   "outputs": [
    {
     "name": "stderr",
     "output_type": "stream",
     "text": [
      "[nltk_data] Downloading collection 'popular'\n",
      "[nltk_data]    | \n",
      "[nltk_data]    | Downloading package cmudict to\n",
      "[nltk_data]    |     /home/codespace/nltk_data...\n",
      "[nltk_data]    |   Package cmudict is already up-to-date!\n",
      "[nltk_data]    | Downloading package gazetteers to\n",
      "[nltk_data]    |     /home/codespace/nltk_data...\n",
      "[nltk_data]    |   Package gazetteers is already up-to-date!\n",
      "[nltk_data]    | Downloading package genesis to\n",
      "[nltk_data]    |     /home/codespace/nltk_data...\n",
      "[nltk_data]    |   Package genesis is already up-to-date!\n",
      "[nltk_data]    | Downloading package gutenberg to\n",
      "[nltk_data]    |     /home/codespace/nltk_data...\n",
      "[nltk_data]    |   Package gutenberg is already up-to-date!\n",
      "[nltk_data]    | Downloading package inaugural to\n",
      "[nltk_data]    |     /home/codespace/nltk_data...\n",
      "[nltk_data]    |   Package inaugural is already up-to-date!\n",
      "[nltk_data]    | Downloading package movie_reviews to\n",
      "[nltk_data]    |     /home/codespace/nltk_data...\n",
      "[nltk_data]    |   Package movie_reviews is already up-to-date!\n",
      "[nltk_data]    | Downloading package names to\n",
      "[nltk_data]    |     /home/codespace/nltk_data...\n",
      "[nltk_data]    |   Package names is already up-to-date!\n",
      "[nltk_data]    | Downloading package shakespeare to\n",
      "[nltk_data]    |     /home/codespace/nltk_data...\n",
      "[nltk_data]    |   Package shakespeare is already up-to-date!\n",
      "[nltk_data]    | Downloading package stopwords to\n",
      "[nltk_data]    |     /home/codespace/nltk_data...\n",
      "[nltk_data]    |   Package stopwords is already up-to-date!\n",
      "[nltk_data]    | Downloading package treebank to\n",
      "[nltk_data]    |     /home/codespace/nltk_data...\n",
      "[nltk_data]    |   Package treebank is already up-to-date!\n",
      "[nltk_data]    | Downloading package twitter_samples to\n",
      "[nltk_data]    |     /home/codespace/nltk_data...\n",
      "[nltk_data]    |   Package twitter_samples is already up-to-date!\n",
      "[nltk_data]    | Downloading package omw to\n",
      "[nltk_data]    |     /home/codespace/nltk_data...\n",
      "[nltk_data]    |   Package omw is already up-to-date!\n",
      "[nltk_data]    | Downloading package omw-1.4 to\n",
      "[nltk_data]    |     /home/codespace/nltk_data...\n",
      "[nltk_data]    |   Package omw-1.4 is already up-to-date!\n",
      "[nltk_data]    | Downloading package wordnet to\n",
      "[nltk_data]    |     /home/codespace/nltk_data...\n",
      "[nltk_data]    |   Package wordnet is already up-to-date!\n",
      "[nltk_data]    | Downloading package wordnet2021 to\n",
      "[nltk_data]    |     /home/codespace/nltk_data...\n",
      "[nltk_data]    |   Package wordnet2021 is already up-to-date!\n",
      "[nltk_data]    | Downloading package wordnet31 to\n",
      "[nltk_data]    |     /home/codespace/nltk_data...\n",
      "[nltk_data]    |   Package wordnet31 is already up-to-date!\n",
      "[nltk_data]    | Downloading package wordnet_ic to\n",
      "[nltk_data]    |     /home/codespace/nltk_data...\n",
      "[nltk_data]    |   Package wordnet_ic is already up-to-date!\n",
      "[nltk_data]    | Downloading package words to\n",
      "[nltk_data]    |     /home/codespace/nltk_data...\n",
      "[nltk_data]    |   Package words is already up-to-date!\n",
      "[nltk_data]    | Downloading package maxent_ne_chunker to\n",
      "[nltk_data]    |     /home/codespace/nltk_data...\n",
      "[nltk_data]    |   Package maxent_ne_chunker is already up-to-date!\n",
      "[nltk_data]    | Downloading package punkt to\n",
      "[nltk_data]    |     /home/codespace/nltk_data...\n",
      "[nltk_data]    |   Package punkt is already up-to-date!\n",
      "[nltk_data]    | Downloading package snowball_data to\n",
      "[nltk_data]    |     /home/codespace/nltk_data...\n",
      "[nltk_data]    |   Package snowball_data is already up-to-date!\n",
      "[nltk_data]    | Downloading package averaged_perceptron_tagger to\n",
      "[nltk_data]    |     /home/codespace/nltk_data...\n",
      "[nltk_data]    |   Package averaged_perceptron_tagger is already up-\n",
      "[nltk_data]    |       to-date!\n",
      "[nltk_data]    | \n",
      "[nltk_data]  Done downloading collection popular\n",
      "[nltk_data] Downloading package punkt_tab to\n",
      "[nltk_data]     /home/codespace/nltk_data...\n",
      "[nltk_data]   Package punkt_tab is already up-to-date!\n",
      "[nltk_data] Downloading package stopwords to\n",
      "[nltk_data]     /home/codespace/nltk_data...\n",
      "[nltk_data]   Package stopwords is already up-to-date!\n"
     ]
    },
    {
     "data": {
      "text/plain": [
       "True"
      ]
     },
     "execution_count": 45,
     "metadata": {},
     "output_type": "execute_result"
    }
   ],
   "source": [
    "nltk.download('popular')\n",
    "nltk.download('punkt_tab')\n",
    "nltk.download('stopwords')\n",
    "nltk.download('')"
   ]
  },
  {
   "cell_type": "markdown",
   "metadata": {},
   "source": [
    "## Dataset"
   ]
  },
  {
   "cell_type": "code",
   "execution_count": 42,
   "metadata": {},
   "outputs": [],
   "source": [
    "p1=\"Space science is one of the most exciting and rapidly advancing fields of research today. It explores the mysteries of the universe, from the vastness of galaxies to the smallest particles in our solar system. Space scientists study everything from planets and stars to black holes and the origins of the cosmos itself. The pursuit of knowledge about space has led to numerous discoveries that have not only expanded our understanding of the universe but also revolutionized technology and everyday life on Earth.\"\n",
    "p2=\"One of the major branches of space science is astronomy, which involves the observation and study of celestial bodies such as stars, planets, and galaxies. Through advanced telescopes and spacecraft, astronomers can peer into the far reaches of space, unveiling new information about distant planets and star systems. The Hubble Space Telescope, for example, has provided breathtaking images of galaxies billions of light-years away, helping scientists learn about the formation of stars and the evolution of galaxies.\"\n",
    "p3=\"Astrophysics is another critical field within space science. It combines the principles of physics and astronomy to study the behavior of objects in space, including how gravity, radiation, and magnetic fields affect celestial bodies. Astrophysicists work to understand phenomena like black holes, neutron stars, and the mysterious dark matter that makes up a large part of the universe's mass. Their research has led to groundbreaking theories, such as Albert Einstein's theory of general relativity, which explains how gravity works on a cosmic scale.\"\n",
    "p4=\"Planetary science focuses on studying planets, moons, and other objects within our solar system and beyond. With missions like NASA's Mars rovers and the Voyager probes, planetary scientists have been able to explore the surfaces of planets and moons, providing valuable information about their geology, atmosphere, and potential for supporting life. The discovery of water on Mars and the study of Saturn's moon Enceladus have sparked excitement about the possibility of extraterrestrial life.\"\n",
    "p5=\"Space exploration, the practical side of space science, has seen incredible advancements in recent decades. Human spaceflight, space stations, and robotic missions have made it possible for humans to explore space firsthand. The International Space Station (ISS) serves as a laboratory for scientists to conduct experiments in microgravity, while missions to the Moon, Mars, and beyond continue to push the boundaries of human knowledge and capabilities.\"\n",
    "p6=\"In conclusion, space science is an ever-evolving field that holds the promise of revealing the secrets of the universe. Its discoveries inspire wonder and curiosity, while also driving technological and scientific advancements that benefit life on Earth. As we continue to explore space, the possibilities seem limitless, and the quest to understand the cosmos remains one of humanity's greatest endeavors.\""
   ]
  },
  {
   "cell_type": "markdown",
   "metadata": {},
   "source": [
    "## Tokenization"
   ]
  },
  {
   "cell_type": "code",
   "execution_count": null,
   "metadata": {},
   "outputs": [
    {
     "name": "stdout",
     "output_type": "stream",
     "text": [
      "['Space science is one of the most exciting and rapidly advancing fields of research today.', 'It explores the mysteries of the universe, from the vastness of galaxies to the smallest particles in our solar system.', 'Space scientists study everything from planets and stars to black holes and the origins of the cosmos itself.', 'The pursuit of knowledge about space has led to numerous discoveries that have not only expanded our understanding of the universe but also revolutionized technology and everyday life on Earth.']\n",
      "\n",
      "\n",
      "['One of the major branches of space science is astronomy, which involves the observation and study of celestial bodies such as stars, planets, and galaxies.', 'Through advanced telescopes and spacecraft, astronomers can peer into the far reaches of space, unveiling new information about distant planets and star systems.', 'The Hubble Space Telescope, for example, has provided breathtaking images of galaxies billions of light-years away, helping scientists learn about the formation of stars and the evolution of galaxies.']\n",
      "\n",
      "\n",
      "['Astrophysics is another critical field within space science.', 'It combines the principles of physics and astronomy to study the behavior of objects in space, including how gravity, radiation, and magnetic fields affect celestial bodies.', \"Astrophysicists work to understand phenomena like black holes, neutron stars, and the mysterious dark matter that makes up a large part of the universe's mass.\", \"Their research has led to groundbreaking theories, such as Albert Einstein's theory of general relativity, which explains how gravity works on a cosmic scale.\"]\n",
      "\n",
      "\n",
      "['Planetary science focuses on studying planets, moons, and other objects within our solar system and beyond.', \"With missions like NASA's Mars rovers and the Voyager probes, planetary scientists have been able to explore the surfaces of planets and moons, providing valuable information about their geology, atmosphere, and potential for supporting life.\", \"The discovery of water on Mars and the study of Saturn's moon Enceladus have sparked excitement about the possibility of extraterrestrial life.\"]\n",
      "\n",
      "\n",
      "['Space exploration, the practical side of space science, has seen incredible advancements in recent decades.', 'Human spaceflight, space stations, and robotic missions have made it possible for humans to explore space firsthand.', 'The International Space Station (ISS) serves as a laboratory for scientists to conduct experiments in microgravity, while missions to the Moon, Mars, and beyond continue to push the boundaries of human knowledge and capabilities.']\n",
      "\n",
      "\n",
      "['In conclusion, space science is an ever-evolving field that holds the promise of revealing the secrets of the universe.', 'Its discoveries inspire wonder and curiosity, while also driving technological and scientific advancements that benefit life on Earth.', \"As we continue to explore space, the possibilities seem limitless, and the quest to understand the cosmos remains one of humanity's greatest endeavors.\"]\n",
      "\n",
      "\n",
      "['Space', 'science', 'is', 'one', 'of', 'the', 'most', 'exciting', 'and', 'rapidly', 'advancing', 'fields', 'of', 'research', 'today', '.', 'It', 'explores', 'the', 'mysteries', 'of', 'the', 'universe', ',', 'from', 'the', 'vastness', 'of', 'galaxies', 'to', 'the', 'smallest', 'particles', 'in', 'our', 'solar', 'system', '.', 'Space', 'scientists', 'study', 'everything', 'from', 'planets', 'and', 'stars', 'to', 'black', 'holes', 'and', 'the', 'origins', 'of', 'the', 'cosmos', 'itself', '.', 'The', 'pursuit', 'of', 'knowledge', 'about', 'space', 'has', 'led', 'to', 'numerous', 'discoveries', 'that', 'have', 'not', 'only', 'expanded', 'our', 'understanding', 'of', 'the', 'universe', 'but', 'also', 'revolutionized', 'technology', 'and', 'everyday', 'life', 'on', 'Earth', '.']\n",
      "\n",
      "\n",
      "['One', 'of', 'the', 'major', 'branches', 'of', 'space', 'science', 'is', 'astronomy', ',', 'which', 'involves', 'the', 'observation', 'and', 'study', 'of', 'celestial', 'bodies', 'such', 'as', 'stars', ',', 'planets', ',', 'and', 'galaxies', '.', 'Through', 'advanced', 'telescopes', 'and', 'spacecraft', ',', 'astronomers', 'can', 'peer', 'into', 'the', 'far', 'reaches', 'of', 'space', ',', 'unveiling', 'new', 'information', 'about', 'distant', 'planets', 'and', 'star', 'systems', '.', 'The', 'Hubble', 'Space', 'Telescope', ',', 'for', 'example', ',', 'has', 'provided', 'breathtaking', 'images', 'of', 'galaxies', 'billions', 'of', 'light-years', 'away', ',', 'helping', 'scientists', 'learn', 'about', 'the', 'formation', 'of', 'stars', 'and', 'the', 'evolution', 'of', 'galaxies', '.']\n",
      "\n",
      "\n",
      "['Astrophysics', 'is', 'another', 'critical', 'field', 'within', 'space', 'science', '.', 'It', 'combines', 'the', 'principles', 'of', 'physics', 'and', 'astronomy', 'to', 'study', 'the', 'behavior', 'of', 'objects', 'in', 'space', ',', 'including', 'how', 'gravity', ',', 'radiation', ',', 'and', 'magnetic', 'fields', 'affect', 'celestial', 'bodies', '.', 'Astrophysicists', 'work', 'to', 'understand', 'phenomena', 'like', 'black', 'holes', ',', 'neutron', 'stars', ',', 'and', 'the', 'mysterious', 'dark', 'matter', 'that', 'makes', 'up', 'a', 'large', 'part', 'of', 'the', 'universe', \"'s\", 'mass', '.', 'Their', 'research', 'has', 'led', 'to', 'groundbreaking', 'theories', ',', 'such', 'as', 'Albert', 'Einstein', \"'s\", 'theory', 'of', 'general', 'relativity', ',', 'which', 'explains', 'how', 'gravity', 'works', 'on', 'a', 'cosmic', 'scale', '.']\n",
      "\n",
      "\n",
      "['Planetary', 'science', 'focuses', 'on', 'studying', 'planets', ',', 'moons', ',', 'and', 'other', 'objects', 'within', 'our', 'solar', 'system', 'and', 'beyond', '.', 'With', 'missions', 'like', 'NASA', \"'s\", 'Mars', 'rovers', 'and', 'the', 'Voyager', 'probes', ',', 'planetary', 'scientists', 'have', 'been', 'able', 'to', 'explore', 'the', 'surfaces', 'of', 'planets', 'and', 'moons', ',', 'providing', 'valuable', 'information', 'about', 'their', 'geology', ',', 'atmosphere', ',', 'and', 'potential', 'for', 'supporting', 'life', '.', 'The', 'discovery', 'of', 'water', 'on', 'Mars', 'and', 'the', 'study', 'of', 'Saturn', \"'s\", 'moon', 'Enceladus', 'have', 'sparked', 'excitement', 'about', 'the', 'possibility', 'of', 'extraterrestrial', 'life', '.']\n",
      "\n",
      "\n",
      "['Space', 'exploration', ',', 'the', 'practical', 'side', 'of', 'space', 'science', ',', 'has', 'seen', 'incredible', 'advancements', 'in', 'recent', 'decades', '.', 'Human', 'spaceflight', ',', 'space', 'stations', ',', 'and', 'robotic', 'missions', 'have', 'made', 'it', 'possible', 'for', 'humans', 'to', 'explore', 'space', 'firsthand', '.', 'The', 'International', 'Space', 'Station', '(', 'ISS', ')', 'serves', 'as', 'a', 'laboratory', 'for', 'scientists', 'to', 'conduct', 'experiments', 'in', 'microgravity', ',', 'while', 'missions', 'to', 'the', 'Moon', ',', 'Mars', ',', 'and', 'beyond', 'continue', 'to', 'push', 'the', 'boundaries', 'of', 'human', 'knowledge', 'and', 'capabilities', '.']\n",
      "\n",
      "\n",
      "['In', 'conclusion', ',', 'space', 'science', 'is', 'an', 'ever-evolving', 'field', 'that', 'holds', 'the', 'promise', 'of', 'revealing', 'the', 'secrets', 'of', 'the', 'universe', '.', 'Its', 'discoveries', 'inspire', 'wonder', 'and', 'curiosity', ',', 'while', 'also', 'driving', 'technological', 'and', 'scientific', 'advancements', 'that', 'benefit', 'life', 'on', 'Earth', '.', 'As', 'we', 'continue', 'to', 'explore', 'space', ',', 'the', 'possibilities', 'seem', 'limitless', ',', 'and', 'the', 'quest', 'to', 'understand', 'the', 'cosmos', 'remains', 'one', 'of', 'humanity', \"'s\", 'greatest', 'endeavors', '.']\n",
      "\n",
      "\n"
     ]
    }
   ],
   "source": [
    "# Sentence tokenization\n",
    "from nltk import sent_tokenize, word_tokenize\n",
    "\n",
    "data = [p1,p2,p3,p4,p5,p6]\n",
    "sentence_tokens=[]\n",
    "for i in range(len(data)):\n",
    "    print(sent_tokenize(data[i]))\n",
    "    sentence_tokens.append(sent_tokenize(data[i]))\n",
    "    print(\"\\n\")\n",
    "\n",
    "# Word tokenization\n",
    "word_tokens=[]\n",
    "for i in range(len(data)):\n",
    "    print(word_tokenize(data[i]))\n",
    "    word_tokens.append(word_tokenize(data[i]))\n",
    "    print(\"\\n\")"
   ]
  },
  {
   "cell_type": "markdown",
   "metadata": {},
   "source": [
    "## Stop Words Removal"
   ]
  },
  {
   "cell_type": "code",
   "execution_count": 57,
   "metadata": {},
   "outputs": [
    {
     "name": "stdout",
     "output_type": "stream",
     "text": [
      "['Space', 'science', 'one', 'exciting', 'rapidly', 'advancing', 'fields', 'research', 'today', '.', 'It', 'explores', 'mysteries', 'universe', ',', 'vastness', 'galaxies', 'smallest', 'particles', 'solar', 'system', '.', 'Space', 'scientists', 'study', 'everything', 'planets', 'stars', 'black', 'holes', 'origins', 'cosmos', '.', 'The', 'pursuit', 'knowledge', 'space', 'led', 'numerous', 'discoveries', 'expanded', 'understanding', 'universe', 'also', 'revolutionized', 'technology', 'everyday', 'life', 'Earth', '.']\n",
      "['One', 'major', 'branches', 'space', 'science', 'astronomy', ',', 'involves', 'observation', 'study', 'celestial', 'bodies', 'stars', ',', 'planets', ',', 'galaxies', '.', 'Through', 'advanced', 'telescopes', 'spacecraft', ',', 'astronomers', 'peer', 'far', 'reaches', 'space', ',', 'unveiling', 'new', 'information', 'distant', 'planets', 'star', 'systems', '.', 'The', 'Hubble', 'Space', 'Telescope', ',', 'example', ',', 'provided', 'breathtaking', 'images', 'galaxies', 'billions', 'light-years', 'away', ',', 'helping', 'scientists', 'learn', 'formation', 'stars', 'evolution', 'galaxies', '.']\n",
      "['Astrophysics', 'another', 'critical', 'field', 'within', 'space', 'science', '.', 'It', 'combines', 'principles', 'physics', 'astronomy', 'study', 'behavior', 'objects', 'space', ',', 'including', 'gravity', ',', 'radiation', ',', 'magnetic', 'fields', 'affect', 'celestial', 'bodies', '.', 'Astrophysicists', 'work', 'understand', 'phenomena', 'like', 'black', 'holes', ',', 'neutron', 'stars', ',', 'mysterious', 'dark', 'matter', 'makes', 'large', 'part', 'universe', \"'s\", 'mass', '.', 'Their', 'research', 'led', 'groundbreaking', 'theories', ',', 'Albert', 'Einstein', \"'s\", 'theory', 'general', 'relativity', ',', 'explains', 'gravity', 'works', 'cosmic', 'scale', '.']\n",
      "['Planetary', 'science', 'focuses', 'studying', 'planets', ',', 'moons', ',', 'objects', 'within', 'solar', 'system', 'beyond', '.', 'With', 'missions', 'like', 'NASA', \"'s\", 'Mars', 'rovers', 'Voyager', 'probes', ',', 'planetary', 'scientists', 'able', 'explore', 'surfaces', 'planets', 'moons', ',', 'providing', 'valuable', 'information', 'geology', ',', 'atmosphere', ',', 'potential', 'supporting', 'life', '.', 'The', 'discovery', 'water', 'Mars', 'study', 'Saturn', \"'s\", 'moon', 'Enceladus', 'sparked', 'excitement', 'possibility', 'extraterrestrial', 'life', '.']\n",
      "['Space', 'exploration', ',', 'practical', 'side', 'space', 'science', ',', 'seen', 'incredible', 'advancements', 'recent', 'decades', '.', 'Human', 'spaceflight', ',', 'space', 'stations', ',', 'robotic', 'missions', 'made', 'possible', 'humans', 'explore', 'space', 'firsthand', '.', 'The', 'International', 'Space', 'Station', '(', 'ISS', ')', 'serves', 'laboratory', 'scientists', 'conduct', 'experiments', 'microgravity', ',', 'missions', 'Moon', ',', 'Mars', ',', 'beyond', 'continue', 'push', 'boundaries', 'human', 'knowledge', 'capabilities', '.']\n",
      "['In', 'conclusion', ',', 'space', 'science', 'ever-evolving', 'field', 'holds', 'promise', 'revealing', 'secrets', 'universe', '.', 'Its', 'discoveries', 'inspire', 'wonder', 'curiosity', ',', 'also', 'driving', 'technological', 'scientific', 'advancements', 'benefit', 'life', 'Earth', '.', 'As', 'continue', 'explore', 'space', ',', 'possibilities', 'seem', 'limitless', ',', 'quest', 'understand', 'cosmos', 'remains', 'one', 'humanity', \"'s\", 'greatest', 'endeavors', '.']\n"
     ]
    }
   ],
   "source": [
    "from nltk.corpus import stopwords\n",
    "stopwords = stopwords.words('english')\n",
    "\n",
    "filtered_word_tokens=[]\n",
    "for i in range(len(word_tokens)):\n",
    "    filter=[]\n",
    "    for word in word_tokens[i]:\n",
    "        if word not in stopwords:\n",
    "            filter.append(word)\n",
    "    filtered_word_tokens.append(filter)\n",
    "\n",
    "for i in range(len(filtered_word_tokens)):\n",
    "    print(filtered_word_tokens[i])"
   ]
  },
  {
   "cell_type": "markdown",
   "metadata": {},
   "source": [
    "## POS Tag"
   ]
  },
  {
   "cell_type": "code",
   "execution_count": 67,
   "metadata": {},
   "outputs": [
    {
     "ename": "LookupError",
     "evalue": "\n**********************************************************************\n  Resource \u001b[93maveraged_perceptron_tagger_eng\u001b[0m not found.\n  Please use the NLTK Downloader to obtain the resource:\n\n  \u001b[31m>>> import nltk\n  >>> nltk.download('averaged_perceptron_tagger_eng')\n  \u001b[0m\n  For more information see: https://www.nltk.org/data.html\n\n  Attempted to load \u001b[93mtaggers/averaged_perceptron_tagger_eng/\u001b[0m\n\n  Searched in:\n    - '/home/codespace/nltk_data'\n    - '/usr/local/python/3.12.1/nltk_data'\n    - '/usr/local/python/3.12.1/share/nltk_data'\n    - '/usr/local/python/3.12.1/lib/nltk_data'\n    - '/usr/share/nltk_data'\n    - '/usr/local/share/nltk_data'\n    - '/usr/lib/nltk_data'\n    - '/usr/local/lib/nltk_data'\n**********************************************************************\n",
     "output_type": "error",
     "traceback": [
      "\u001b[0;31m---------------------------------------------------------------------------\u001b[0m",
      "\u001b[0;31mLookupError\u001b[0m                               Traceback (most recent call last)",
      "Cell \u001b[0;32mIn[67], line 5\u001b[0m\n\u001b[1;32m      2\u001b[0m pos_tags\u001b[38;5;241m=\u001b[39m[]\n\u001b[1;32m      4\u001b[0m \u001b[38;5;28;01mfor\u001b[39;00m i \u001b[38;5;129;01min\u001b[39;00m \u001b[38;5;28mrange\u001b[39m(\u001b[38;5;28mlen\u001b[39m(word_tokens)):\n\u001b[0;32m----> 5\u001b[0m     pos_tags\u001b[38;5;241m.\u001b[39mappend(\u001b[43mpos_tag\u001b[49m\u001b[43m(\u001b[49m\u001b[43mword_tokens\u001b[49m\u001b[43m[\u001b[49m\u001b[43mi\u001b[49m\u001b[43m]\u001b[49m\u001b[43m)\u001b[49m)\n\u001b[1;32m      7\u001b[0m \u001b[38;5;66;03m# for i in range(len(pos_tags)):\u001b[39;00m\n\u001b[1;32m      8\u001b[0m \u001b[38;5;66;03m#     print(pos_tags[i])\u001b[39;00m\n",
      "File \u001b[0;32m/usr/local/python/3.12.1/lib/python3.12/site-packages/nltk/tag/__init__.py:168\u001b[0m, in \u001b[0;36mpos_tag\u001b[0;34m(tokens, tagset, lang)\u001b[0m\n\u001b[1;32m    143\u001b[0m \u001b[38;5;28;01mdef\u001b[39;00m \u001b[38;5;21mpos_tag\u001b[39m(tokens, tagset\u001b[38;5;241m=\u001b[39m\u001b[38;5;28;01mNone\u001b[39;00m, lang\u001b[38;5;241m=\u001b[39m\u001b[38;5;124m\"\u001b[39m\u001b[38;5;124meng\u001b[39m\u001b[38;5;124m\"\u001b[39m):\n\u001b[1;32m    144\u001b[0m \u001b[38;5;250m    \u001b[39m\u001b[38;5;124;03m\"\"\"\u001b[39;00m\n\u001b[1;32m    145\u001b[0m \u001b[38;5;124;03m    Use NLTK's currently recommended part of speech tagger to\u001b[39;00m\n\u001b[1;32m    146\u001b[0m \u001b[38;5;124;03m    tag the given list of tokens.\u001b[39;00m\n\u001b[0;32m   (...)\u001b[0m\n\u001b[1;32m    166\u001b[0m \u001b[38;5;124;03m    :rtype: list(tuple(str, str))\u001b[39;00m\n\u001b[1;32m    167\u001b[0m \u001b[38;5;124;03m    \"\"\"\u001b[39;00m\n\u001b[0;32m--> 168\u001b[0m     tagger \u001b[38;5;241m=\u001b[39m \u001b[43m_get_tagger\u001b[49m\u001b[43m(\u001b[49m\u001b[43mlang\u001b[49m\u001b[43m)\u001b[49m\n\u001b[1;32m    169\u001b[0m     \u001b[38;5;28;01mreturn\u001b[39;00m _pos_tag(tokens, tagset, tagger, lang)\n",
      "File \u001b[0;32m/usr/local/python/3.12.1/lib/python3.12/site-packages/nltk/tag/__init__.py:110\u001b[0m, in \u001b[0;36m_get_tagger\u001b[0;34m(lang)\u001b[0m\n\u001b[1;32m    108\u001b[0m     tagger \u001b[38;5;241m=\u001b[39m PerceptronTagger(lang\u001b[38;5;241m=\u001b[39mlang)\n\u001b[1;32m    109\u001b[0m \u001b[38;5;28;01melse\u001b[39;00m:\n\u001b[0;32m--> 110\u001b[0m     tagger \u001b[38;5;241m=\u001b[39m \u001b[43mPerceptronTagger\u001b[49m\u001b[43m(\u001b[49m\u001b[43m)\u001b[49m\n\u001b[1;32m    111\u001b[0m \u001b[38;5;28;01mreturn\u001b[39;00m tagger\n",
      "File \u001b[0;32m/usr/local/python/3.12.1/lib/python3.12/site-packages/nltk/tag/perceptron.py:183\u001b[0m, in \u001b[0;36mPerceptronTagger.__init__\u001b[0;34m(self, load, lang)\u001b[0m\n\u001b[1;32m    181\u001b[0m \u001b[38;5;28mself\u001b[39m\u001b[38;5;241m.\u001b[39mclasses \u001b[38;5;241m=\u001b[39m \u001b[38;5;28mset\u001b[39m()\n\u001b[1;32m    182\u001b[0m \u001b[38;5;28;01mif\u001b[39;00m load:\n\u001b[0;32m--> 183\u001b[0m     \u001b[38;5;28;43mself\u001b[39;49m\u001b[38;5;241;43m.\u001b[39;49m\u001b[43mload_from_json\u001b[49m\u001b[43m(\u001b[49m\u001b[43mlang\u001b[49m\u001b[43m)\u001b[49m\n",
      "File \u001b[0;32m/usr/local/python/3.12.1/lib/python3.12/site-packages/nltk/tag/perceptron.py:273\u001b[0m, in \u001b[0;36mPerceptronTagger.load_from_json\u001b[0;34m(self, lang)\u001b[0m\n\u001b[1;32m    271\u001b[0m \u001b[38;5;28;01mdef\u001b[39;00m \u001b[38;5;21mload_from_json\u001b[39m(\u001b[38;5;28mself\u001b[39m, lang\u001b[38;5;241m=\u001b[39m\u001b[38;5;124m\"\u001b[39m\u001b[38;5;124meng\u001b[39m\u001b[38;5;124m\"\u001b[39m):\n\u001b[1;32m    272\u001b[0m     \u001b[38;5;66;03m# Automatically find path to the tagger if location is not specified.\u001b[39;00m\n\u001b[0;32m--> 273\u001b[0m     loc \u001b[38;5;241m=\u001b[39m \u001b[43mfind\u001b[49m\u001b[43m(\u001b[49m\u001b[38;5;124;43mf\u001b[39;49m\u001b[38;5;124;43m\"\u001b[39;49m\u001b[38;5;124;43mtaggers/averaged_perceptron_tagger_\u001b[39;49m\u001b[38;5;132;43;01m{\u001b[39;49;00m\u001b[43mlang\u001b[49m\u001b[38;5;132;43;01m}\u001b[39;49;00m\u001b[38;5;124;43m/\u001b[39;49m\u001b[38;5;124;43m\"\u001b[39;49m\u001b[43m)\u001b[49m\n\u001b[1;32m    274\u001b[0m     \u001b[38;5;28;01mwith\u001b[39;00m \u001b[38;5;28mopen\u001b[39m(loc \u001b[38;5;241m+\u001b[39m TAGGER_JSONS[lang][\u001b[38;5;124m\"\u001b[39m\u001b[38;5;124mweights\u001b[39m\u001b[38;5;124m\"\u001b[39m]) \u001b[38;5;28;01mas\u001b[39;00m fin:\n\u001b[1;32m    275\u001b[0m         \u001b[38;5;28mself\u001b[39m\u001b[38;5;241m.\u001b[39mmodel\u001b[38;5;241m.\u001b[39mweights \u001b[38;5;241m=\u001b[39m json\u001b[38;5;241m.\u001b[39mload(fin)\n",
      "File \u001b[0;32m/usr/local/python/3.12.1/lib/python3.12/site-packages/nltk/data.py:579\u001b[0m, in \u001b[0;36mfind\u001b[0;34m(resource_name, paths)\u001b[0m\n\u001b[1;32m    577\u001b[0m sep \u001b[38;5;241m=\u001b[39m \u001b[38;5;124m\"\u001b[39m\u001b[38;5;124m*\u001b[39m\u001b[38;5;124m\"\u001b[39m \u001b[38;5;241m*\u001b[39m \u001b[38;5;241m70\u001b[39m\n\u001b[1;32m    578\u001b[0m resource_not_found \u001b[38;5;241m=\u001b[39m \u001b[38;5;124mf\u001b[39m\u001b[38;5;124m\"\u001b[39m\u001b[38;5;130;01m\\n\u001b[39;00m\u001b[38;5;132;01m{\u001b[39;00msep\u001b[38;5;132;01m}\u001b[39;00m\u001b[38;5;130;01m\\n\u001b[39;00m\u001b[38;5;132;01m{\u001b[39;00mmsg\u001b[38;5;132;01m}\u001b[39;00m\u001b[38;5;130;01m\\n\u001b[39;00m\u001b[38;5;132;01m{\u001b[39;00msep\u001b[38;5;132;01m}\u001b[39;00m\u001b[38;5;130;01m\\n\u001b[39;00m\u001b[38;5;124m\"\u001b[39m\n\u001b[0;32m--> 579\u001b[0m \u001b[38;5;28;01mraise\u001b[39;00m \u001b[38;5;167;01mLookupError\u001b[39;00m(resource_not_found)\n",
      "\u001b[0;31mLookupError\u001b[0m: \n**********************************************************************\n  Resource \u001b[93maveraged_perceptron_tagger_eng\u001b[0m not found.\n  Please use the NLTK Downloader to obtain the resource:\n\n  \u001b[31m>>> import nltk\n  >>> nltk.download('averaged_perceptron_tagger_eng')\n  \u001b[0m\n  For more information see: https://www.nltk.org/data.html\n\n  Attempted to load \u001b[93mtaggers/averaged_perceptron_tagger_eng/\u001b[0m\n\n  Searched in:\n    - '/home/codespace/nltk_data'\n    - '/usr/local/python/3.12.1/nltk_data'\n    - '/usr/local/python/3.12.1/share/nltk_data'\n    - '/usr/local/python/3.12.1/lib/nltk_data'\n    - '/usr/share/nltk_data'\n    - '/usr/local/share/nltk_data'\n    - '/usr/lib/nltk_data'\n    - '/usr/local/lib/nltk_data'\n**********************************************************************\n"
     ]
    }
   ],
   "source": [
    "from nltk import pos_tag\n",
    "pos_tags=[]\n",
    "\n",
    "for i in range(len(word_tokens)):\n",
    "    pos_tags.append(pos_tag(word_tokens[i]))\n",
    "\n",
    "# for i in range(len(pos_tags)):\n",
    "#     print(pos_tags[i])"
   ]
  }
 ],
 "metadata": {
  "kernelspec": {
   "display_name": "Python 3",
   "language": "python",
   "name": "python3"
  },
  "language_info": {
   "codemirror_mode": {
    "name": "ipython",
    "version": 3
   },
   "file_extension": ".py",
   "mimetype": "text/x-python",
   "name": "python",
   "nbconvert_exporter": "python",
   "pygments_lexer": "ipython3",
   "version": "3.12.1"
  }
 },
 "nbformat": 4,
 "nbformat_minor": 2
}
